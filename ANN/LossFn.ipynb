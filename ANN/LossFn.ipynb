{
 "cells": [
  {
   "cell_type": "code",
   "execution_count": 1,
   "metadata": {},
   "outputs": [],
   "source": [
    "import numpy as np  "
   ]
  },
  {
   "cell_type": "code",
   "execution_count": 2,
   "metadata": {},
   "outputs": [],
   "source": [
    "yPredicted = np.array([1,1,0,0,1])\n",
    "yTrue = np.array([0.3,0.7,1,0,0.5])"
   ]
  },
  {
   "cell_type": "code",
   "execution_count": 3,
   "metadata": {},
   "outputs": [],
   "source": [
    "def mae(yReal,yPredict):\n",
    "    totalError = 0\n",
    "    for yt,yp in zip(yReal,yPredict):\n",
    "        totalError += abs(yt - yp)\n",
    "        print(totalError)\n",
    "        \n",
    "    meanAbsErr = totalError/len(yReal)\n",
    "    print(\"The mean absoulte error is: \", meanAbsErr)"
   ]
  },
  {
   "cell_type": "code",
   "execution_count": 4,
   "metadata": {},
   "outputs": [
    {
     "name": "stdout",
     "output_type": "stream",
     "text": [
      "0.7\n",
      "1.0\n",
      "2.0\n",
      "2.0\n",
      "2.5\n",
      "The mean absoulte error is:  0.5\n"
     ]
    }
   ],
   "source": [
    "mae(yTrue,yPredicted)"
   ]
  },
  {
   "cell_type": "code",
   "execution_count": null,
   "metadata": {},
   "outputs": [],
   "source": []
  }
 ],
 "metadata": {
  "kernelspec": {
   "display_name": "Python 3 (ipykernel)",
   "language": "python",
   "name": "python3"
  },
  "language_info": {
   "codemirror_mode": {
    "name": "ipython",
    "version": 3
   },
   "file_extension": ".py",
   "mimetype": "text/x-python",
   "name": "python",
   "nbconvert_exporter": "python",
   "pygments_lexer": "ipython3",
   "version": "3.11.5"
  }
 },
 "nbformat": 4,
 "nbformat_minor": 2
}
