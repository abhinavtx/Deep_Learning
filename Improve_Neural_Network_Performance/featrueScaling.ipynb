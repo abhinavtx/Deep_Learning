{
 "cells": [
  {
   "cell_type": "code",
   "execution_count": 4,
   "metadata": {},
   "outputs": [],
   "source": [
    "import numpy as np\n",
    "import pandas as pd"
   ]
  },
  {
   "cell_type": "code",
   "execution_count": 5,
   "metadata": {},
   "outputs": [
    {
     "data": {
      "text/html": [
       "<div>\n",
       "<style scoped>\n",
       "    .dataframe tbody tr th:only-of-type {\n",
       "        vertical-align: middle;\n",
       "    }\n",
       "\n",
       "    .dataframe tbody tr th {\n",
       "        vertical-align: top;\n",
       "    }\n",
       "\n",
       "    .dataframe thead th {\n",
       "        text-align: right;\n",
       "    }\n",
       "</style>\n",
       "<table border=\"1\" class=\"dataframe\">\n",
       "  <thead>\n",
       "    <tr style=\"text-align: right;\">\n",
       "      <th></th>\n",
       "      <th>Age</th>\n",
       "      <th>EstimatedSalary</th>\n",
       "      <th>Purchased</th>\n",
       "    </tr>\n",
       "  </thead>\n",
       "  <tbody>\n",
       "    <tr>\n",
       "      <th>0</th>\n",
       "      <td>19</td>\n",
       "      <td>19000</td>\n",
       "      <td>0</td>\n",
       "    </tr>\n",
       "    <tr>\n",
       "      <th>1</th>\n",
       "      <td>35</td>\n",
       "      <td>20000</td>\n",
       "      <td>0</td>\n",
       "    </tr>\n",
       "    <tr>\n",
       "      <th>2</th>\n",
       "      <td>26</td>\n",
       "      <td>43000</td>\n",
       "      <td>0</td>\n",
       "    </tr>\n",
       "    <tr>\n",
       "      <th>3</th>\n",
       "      <td>27</td>\n",
       "      <td>57000</td>\n",
       "      <td>0</td>\n",
       "    </tr>\n",
       "    <tr>\n",
       "      <th>4</th>\n",
       "      <td>19</td>\n",
       "      <td>76000</td>\n",
       "      <td>0</td>\n",
       "    </tr>\n",
       "  </tbody>\n",
       "</table>\n",
       "</div>"
      ],
      "text/plain": [
       "   Age  EstimatedSalary  Purchased\n",
       "0   19            19000          0\n",
       "1   35            20000          0\n",
       "2   26            43000          0\n",
       "3   27            57000          0\n",
       "4   19            76000          0"
      ]
     },
     "execution_count": 5,
     "metadata": {},
     "output_type": "execute_result"
    }
   ],
   "source": [
    "df = pd.read_csv('Social_Network_Ads.csv')\n",
    "df.head()"
   ]
  },
  {
   "cell_type": "code",
   "execution_count": 7,
   "metadata": {},
   "outputs": [],
   "source": [
    "X = df.iloc[:,0:2]\n",
    "y = df.iloc[:,-1]"
   ]
  },
  {
   "cell_type": "code",
   "execution_count": 8,
   "metadata": {},
   "outputs": [],
   "source": [
    "from sklearn.model_selection import train_test_split\n",
    "X_train,X_test,y_train,y_test = train_test_split(X,y,test_size=0.2,random_state=2)"
   ]
  },
  {
   "cell_type": "code",
   "execution_count": 9,
   "metadata": {},
   "outputs": [
    {
     "name": "stdout",
     "output_type": "stream",
     "text": [
      "WARNING:tensorflow:From c:\\Users\\abhinav.aggarwal\\AppData\\Local\\Programs\\Python\\Python39\\lib\\site-packages\\keras\\src\\losses.py:2976: The name tf.losses.sparse_softmax_cross_entropy is deprecated. Please use tf.compat.v1.losses.sparse_softmax_cross_entropy instead.\n",
      "\n"
     ]
    }
   ],
   "source": [
    "import tensorflow as tf\n",
    "from tensorflow import keras\n",
    "from keras import Sequential\n",
    "from keras.layers import Dense"
   ]
  },
  {
   "cell_type": "code",
   "execution_count": 10,
   "metadata": {},
   "outputs": [],
   "source": [
    "from sklearn.preprocessing import StandardScaler\n",
    "scaler = StandardScaler()\n",
    "\n",
    "X_train_scaled = scaler.fit_transform(X_train)\n",
    "X_test_scaled = scaler.transform(X_test)"
   ]
  },
  {
   "cell_type": "code",
   "execution_count": 11,
   "metadata": {},
   "outputs": [
    {
     "name": "stdout",
     "output_type": "stream",
     "text": [
      "WARNING:tensorflow:From c:\\Users\\abhinav.aggarwal\\AppData\\Local\\Programs\\Python\\Python39\\lib\\site-packages\\keras\\src\\backend.py:873: The name tf.get_default_graph is deprecated. Please use tf.compat.v1.get_default_graph instead.\n",
      "\n",
      "WARNING:tensorflow:From c:\\Users\\abhinav.aggarwal\\AppData\\Local\\Programs\\Python\\Python39\\lib\\site-packages\\keras\\src\\optimizers\\__init__.py:309: The name tf.train.Optimizer is deprecated. Please use tf.compat.v1.train.Optimizer instead.\n",
      "\n",
      "Epoch 1/100\n",
      "WARNING:tensorflow:From c:\\Users\\abhinav.aggarwal\\AppData\\Local\\Programs\\Python\\Python39\\lib\\site-packages\\keras\\src\\utils\\tf_utils.py:492: The name tf.ragged.RaggedTensorValue is deprecated. Please use tf.compat.v1.ragged.RaggedTensorValue instead.\n",
      "\n",
      "WARNING:tensorflow:From c:\\Users\\abhinav.aggarwal\\AppData\\Local\\Programs\\Python\\Python39\\lib\\site-packages\\keras\\src\\engine\\base_layer_utils.py:384: The name tf.executing_eagerly_outside_functions is deprecated. Please use tf.compat.v1.executing_eagerly_outside_functions instead.\n",
      "\n",
      "10/10 [==============================] - 1s 27ms/step - loss: 0.6282 - accuracy: 0.8000 - val_loss: 0.5651 - val_accuracy: 0.8500\n",
      "Epoch 2/100\n",
      "10/10 [==============================] - 0s 10ms/step - loss: 0.5471 - accuracy: 0.8469 - val_loss: 0.4939 - val_accuracy: 0.8000\n",
      "Epoch 3/100\n",
      "10/10 [==============================] - 0s 8ms/step - loss: 0.4865 - accuracy: 0.8562 - val_loss: 0.4338 - val_accuracy: 0.8125\n",
      "Epoch 4/100\n",
      "10/10 [==============================] - 0s 7ms/step - loss: 0.4347 - accuracy: 0.8625 - val_loss: 0.3886 - val_accuracy: 0.8125\n",
      "Epoch 5/100\n",
      "10/10 [==============================] - 0s 7ms/step - loss: 0.3936 - accuracy: 0.8656 - val_loss: 0.3562 - val_accuracy: 0.8000\n",
      "Epoch 6/100\n",
      "10/10 [==============================] - 0s 7ms/step - loss: 0.3614 - accuracy: 0.8562 - val_loss: 0.3334 - val_accuracy: 0.8250\n",
      "Epoch 7/100\n",
      "10/10 [==============================] - 0s 7ms/step - loss: 0.3346 - accuracy: 0.8719 - val_loss: 0.3121 - val_accuracy: 0.8500\n",
      "Epoch 8/100\n",
      "10/10 [==============================] - 0s 7ms/step - loss: 0.3136 - accuracy: 0.8938 - val_loss: 0.2967 - val_accuracy: 0.8750\n",
      "Epoch 9/100\n",
      "10/10 [==============================] - 0s 7ms/step - loss: 0.2964 - accuracy: 0.9000 - val_loss: 0.2899 - val_accuracy: 0.8625\n",
      "Epoch 10/100\n",
      "10/10 [==============================] - 0s 6ms/step - loss: 0.2841 - accuracy: 0.8969 - val_loss: 0.2899 - val_accuracy: 0.8625\n",
      "Epoch 11/100\n",
      "10/10 [==============================] - 0s 6ms/step - loss: 0.2717 - accuracy: 0.9031 - val_loss: 0.2755 - val_accuracy: 0.8750\n",
      "Epoch 12/100\n",
      "10/10 [==============================] - 0s 7ms/step - loss: 0.2620 - accuracy: 0.9094 - val_loss: 0.2705 - val_accuracy: 0.8750\n",
      "Epoch 13/100\n",
      "10/10 [==============================] - 0s 7ms/step - loss: 0.2572 - accuracy: 0.9000 - val_loss: 0.2726 - val_accuracy: 0.9000\n",
      "Epoch 14/100\n",
      "10/10 [==============================] - 0s 7ms/step - loss: 0.2504 - accuracy: 0.9031 - val_loss: 0.2664 - val_accuracy: 0.9000\n",
      "Epoch 15/100\n",
      "10/10 [==============================] - 0s 7ms/step - loss: 0.2452 - accuracy: 0.9062 - val_loss: 0.2654 - val_accuracy: 0.9000\n",
      "Epoch 16/100\n",
      "10/10 [==============================] - 0s 7ms/step - loss: 0.2433 - accuracy: 0.9031 - val_loss: 0.2650 - val_accuracy: 0.8875\n",
      "Epoch 17/100\n",
      "10/10 [==============================] - 0s 6ms/step - loss: 0.2403 - accuracy: 0.9031 - val_loss: 0.2585 - val_accuracy: 0.9125\n",
      "Epoch 18/100\n",
      "10/10 [==============================] - 0s 7ms/step - loss: 0.2392 - accuracy: 0.9031 - val_loss: 0.2574 - val_accuracy: 0.9250\n",
      "Epoch 19/100\n",
      "10/10 [==============================] - 0s 6ms/step - loss: 0.2359 - accuracy: 0.9062 - val_loss: 0.2595 - val_accuracy: 0.9250\n",
      "Epoch 20/100\n",
      "10/10 [==============================] - 0s 7ms/step - loss: 0.2348 - accuracy: 0.9031 - val_loss: 0.2645 - val_accuracy: 0.8875\n",
      "Epoch 21/100\n",
      "10/10 [==============================] - 0s 6ms/step - loss: 0.2339 - accuracy: 0.9031 - val_loss: 0.2617 - val_accuracy: 0.9250\n",
      "Epoch 22/100\n",
      "10/10 [==============================] - 0s 6ms/step - loss: 0.2340 - accuracy: 0.9062 - val_loss: 0.2524 - val_accuracy: 0.9250\n",
      "Epoch 23/100\n",
      "10/10 [==============================] - 0s 7ms/step - loss: 0.2324 - accuracy: 0.9062 - val_loss: 0.2571 - val_accuracy: 0.9250\n",
      "Epoch 24/100\n",
      "10/10 [==============================] - 0s 7ms/step - loss: 0.2317 - accuracy: 0.9062 - val_loss: 0.2611 - val_accuracy: 0.9250\n",
      "Epoch 25/100\n",
      "10/10 [==============================] - 0s 7ms/step - loss: 0.2304 - accuracy: 0.9031 - val_loss: 0.2570 - val_accuracy: 0.9250\n",
      "Epoch 26/100\n",
      "10/10 [==============================] - 0s 6ms/step - loss: 0.2302 - accuracy: 0.9062 - val_loss: 0.2533 - val_accuracy: 0.9250\n",
      "Epoch 27/100\n",
      "10/10 [==============================] - 0s 7ms/step - loss: 0.2287 - accuracy: 0.9062 - val_loss: 0.2569 - val_accuracy: 0.9250\n",
      "Epoch 28/100\n",
      "10/10 [==============================] - 0s 6ms/step - loss: 0.2293 - accuracy: 0.9062 - val_loss: 0.2647 - val_accuracy: 0.9250\n",
      "Epoch 29/100\n",
      "10/10 [==============================] - 0s 6ms/step - loss: 0.2287 - accuracy: 0.9062 - val_loss: 0.2502 - val_accuracy: 0.9250\n",
      "Epoch 30/100\n",
      "10/10 [==============================] - 0s 6ms/step - loss: 0.2279 - accuracy: 0.9062 - val_loss: 0.2496 - val_accuracy: 0.9250\n",
      "Epoch 31/100\n",
      "10/10 [==============================] - 0s 6ms/step - loss: 0.2275 - accuracy: 0.9062 - val_loss: 0.2557 - val_accuracy: 0.9250\n",
      "Epoch 32/100\n",
      "10/10 [==============================] - 0s 6ms/step - loss: 0.2276 - accuracy: 0.9062 - val_loss: 0.2501 - val_accuracy: 0.9250\n",
      "Epoch 33/100\n",
      "10/10 [==============================] - 0s 6ms/step - loss: 0.2272 - accuracy: 0.9062 - val_loss: 0.2579 - val_accuracy: 0.9250\n",
      "Epoch 34/100\n",
      "10/10 [==============================] - 0s 6ms/step - loss: 0.2276 - accuracy: 0.9062 - val_loss: 0.2569 - val_accuracy: 0.9250\n",
      "Epoch 35/100\n",
      "10/10 [==============================] - 0s 6ms/step - loss: 0.2257 - accuracy: 0.9062 - val_loss: 0.2546 - val_accuracy: 0.9250\n",
      "Epoch 36/100\n",
      "10/10 [==============================] - 0s 6ms/step - loss: 0.2248 - accuracy: 0.9062 - val_loss: 0.2501 - val_accuracy: 0.9250\n",
      "Epoch 37/100\n",
      "10/10 [==============================] - 0s 7ms/step - loss: 0.2253 - accuracy: 0.9062 - val_loss: 0.2494 - val_accuracy: 0.9250\n",
      "Epoch 38/100\n",
      "10/10 [==============================] - 0s 7ms/step - loss: 0.2245 - accuracy: 0.9094 - val_loss: 0.2557 - val_accuracy: 0.9125\n",
      "Epoch 39/100\n",
      "10/10 [==============================] - 0s 7ms/step - loss: 0.2237 - accuracy: 0.9094 - val_loss: 0.2533 - val_accuracy: 0.9250\n",
      "Epoch 40/100\n",
      "10/10 [==============================] - 0s 6ms/step - loss: 0.2257 - accuracy: 0.9062 - val_loss: 0.2436 - val_accuracy: 0.9250\n",
      "Epoch 41/100\n",
      "10/10 [==============================] - 0s 6ms/step - loss: 0.2247 - accuracy: 0.9094 - val_loss: 0.2589 - val_accuracy: 0.9250\n",
      "Epoch 42/100\n",
      "10/10 [==============================] - 0s 7ms/step - loss: 0.2247 - accuracy: 0.9125 - val_loss: 0.2498 - val_accuracy: 0.9125\n",
      "Epoch 43/100\n",
      "10/10 [==============================] - 0s 6ms/step - loss: 0.2240 - accuracy: 0.9125 - val_loss: 0.2557 - val_accuracy: 0.9125\n",
      "Epoch 44/100\n",
      "10/10 [==============================] - 0s 6ms/step - loss: 0.2238 - accuracy: 0.9125 - val_loss: 0.2488 - val_accuracy: 0.9250\n",
      "Epoch 45/100\n",
      "10/10 [==============================] - 0s 6ms/step - loss: 0.2250 - accuracy: 0.9125 - val_loss: 0.2630 - val_accuracy: 0.9250\n",
      "Epoch 46/100\n",
      "10/10 [==============================] - 0s 6ms/step - loss: 0.2223 - accuracy: 0.9125 - val_loss: 0.2521 - val_accuracy: 0.9250\n",
      "Epoch 47/100\n",
      "10/10 [==============================] - 0s 6ms/step - loss: 0.2221 - accuracy: 0.9125 - val_loss: 0.2480 - val_accuracy: 0.9250\n",
      "Epoch 48/100\n",
      "10/10 [==============================] - 0s 6ms/step - loss: 0.2229 - accuracy: 0.9094 - val_loss: 0.2459 - val_accuracy: 0.9250\n",
      "Epoch 49/100\n",
      "10/10 [==============================] - 0s 7ms/step - loss: 0.2216 - accuracy: 0.9094 - val_loss: 0.2446 - val_accuracy: 0.9250\n",
      "Epoch 50/100\n",
      "10/10 [==============================] - 0s 7ms/step - loss: 0.2220 - accuracy: 0.9125 - val_loss: 0.2487 - val_accuracy: 0.9125\n",
      "Epoch 51/100\n",
      "10/10 [==============================] - 0s 7ms/step - loss: 0.2218 - accuracy: 0.9125 - val_loss: 0.2547 - val_accuracy: 0.9250\n",
      "Epoch 52/100\n",
      "10/10 [==============================] - 0s 6ms/step - loss: 0.2219 - accuracy: 0.9125 - val_loss: 0.2492 - val_accuracy: 0.9125\n",
      "Epoch 53/100\n",
      "10/10 [==============================] - 0s 7ms/step - loss: 0.2208 - accuracy: 0.9125 - val_loss: 0.2475 - val_accuracy: 0.9250\n",
      "Epoch 54/100\n",
      "10/10 [==============================] - 0s 7ms/step - loss: 0.2204 - accuracy: 0.9125 - val_loss: 0.2475 - val_accuracy: 0.9250\n",
      "Epoch 55/100\n",
      "10/10 [==============================] - 0s 7ms/step - loss: 0.2204 - accuracy: 0.9125 - val_loss: 0.2479 - val_accuracy: 0.9125\n",
      "Epoch 56/100\n",
      "10/10 [==============================] - 0s 22ms/step - loss: 0.2198 - accuracy: 0.9125 - val_loss: 0.2529 - val_accuracy: 0.9250\n",
      "Epoch 57/100\n",
      "10/10 [==============================] - 0s 6ms/step - loss: 0.2200 - accuracy: 0.9125 - val_loss: 0.2574 - val_accuracy: 0.9250\n",
      "Epoch 58/100\n",
      "10/10 [==============================] - 0s 7ms/step - loss: 0.2215 - accuracy: 0.9125 - val_loss: 0.2461 - val_accuracy: 0.9125\n",
      "Epoch 59/100\n",
      "10/10 [==============================] - 0s 6ms/step - loss: 0.2197 - accuracy: 0.9156 - val_loss: 0.2449 - val_accuracy: 0.9125\n",
      "Epoch 60/100\n",
      "10/10 [==============================] - 0s 12ms/step - loss: 0.2191 - accuracy: 0.9125 - val_loss: 0.2547 - val_accuracy: 0.9250\n",
      "Epoch 61/100\n",
      "10/10 [==============================] - 0s 6ms/step - loss: 0.2196 - accuracy: 0.9125 - val_loss: 0.2511 - val_accuracy: 0.9250\n",
      "Epoch 62/100\n",
      "10/10 [==============================] - 0s 7ms/step - loss: 0.2191 - accuracy: 0.9125 - val_loss: 0.2540 - val_accuracy: 0.9250\n",
      "Epoch 63/100\n",
      "10/10 [==============================] - 0s 6ms/step - loss: 0.2188 - accuracy: 0.9156 - val_loss: 0.2413 - val_accuracy: 0.9250\n",
      "Epoch 64/100\n",
      "10/10 [==============================] - 0s 6ms/step - loss: 0.2182 - accuracy: 0.9156 - val_loss: 0.2429 - val_accuracy: 0.9125\n",
      "Epoch 65/100\n",
      "10/10 [==============================] - 0s 7ms/step - loss: 0.2182 - accuracy: 0.9125 - val_loss: 0.2478 - val_accuracy: 0.9250\n",
      "Epoch 66/100\n",
      "10/10 [==============================] - 0s 7ms/step - loss: 0.2178 - accuracy: 0.9125 - val_loss: 0.2545 - val_accuracy: 0.9250\n",
      "Epoch 67/100\n",
      "10/10 [==============================] - 0s 6ms/step - loss: 0.2180 - accuracy: 0.9125 - val_loss: 0.2518 - val_accuracy: 0.9250\n",
      "Epoch 68/100\n",
      "10/10 [==============================] - 0s 7ms/step - loss: 0.2183 - accuracy: 0.9125 - val_loss: 0.2523 - val_accuracy: 0.9250\n",
      "Epoch 69/100\n",
      "10/10 [==============================] - 0s 5ms/step - loss: 0.2168 - accuracy: 0.9125 - val_loss: 0.2465 - val_accuracy: 0.9125\n",
      "Epoch 70/100\n",
      "10/10 [==============================] - 0s 7ms/step - loss: 0.2168 - accuracy: 0.9125 - val_loss: 0.2396 - val_accuracy: 0.9125\n",
      "Epoch 71/100\n",
      "10/10 [==============================] - 0s 7ms/step - loss: 0.2184 - accuracy: 0.9156 - val_loss: 0.2432 - val_accuracy: 0.9125\n",
      "Epoch 72/100\n",
      "10/10 [==============================] - 0s 7ms/step - loss: 0.2171 - accuracy: 0.9125 - val_loss: 0.2518 - val_accuracy: 0.9250\n",
      "Epoch 73/100\n",
      "10/10 [==============================] - 0s 6ms/step - loss: 0.2158 - accuracy: 0.9156 - val_loss: 0.2501 - val_accuracy: 0.9125\n",
      "Epoch 74/100\n",
      "10/10 [==============================] - 0s 6ms/step - loss: 0.2162 - accuracy: 0.9156 - val_loss: 0.2443 - val_accuracy: 0.9125\n",
      "Epoch 75/100\n",
      "10/10 [==============================] - 0s 6ms/step - loss: 0.2164 - accuracy: 0.9156 - val_loss: 0.2447 - val_accuracy: 0.9125\n",
      "Epoch 76/100\n",
      "10/10 [==============================] - 0s 7ms/step - loss: 0.2168 - accuracy: 0.9156 - val_loss: 0.2489 - val_accuracy: 0.9250\n",
      "Epoch 77/100\n",
      "10/10 [==============================] - 0s 7ms/step - loss: 0.2167 - accuracy: 0.9156 - val_loss: 0.2447 - val_accuracy: 0.9250\n",
      "Epoch 78/100\n",
      "10/10 [==============================] - 0s 6ms/step - loss: 0.2170 - accuracy: 0.9156 - val_loss: 0.2413 - val_accuracy: 0.9250\n",
      "Epoch 79/100\n",
      "10/10 [==============================] - 0s 7ms/step - loss: 0.2175 - accuracy: 0.9125 - val_loss: 0.2559 - val_accuracy: 0.9250\n",
      "Epoch 80/100\n",
      "10/10 [==============================] - 0s 6ms/step - loss: 0.2152 - accuracy: 0.9156 - val_loss: 0.2484 - val_accuracy: 0.9250\n",
      "Epoch 81/100\n",
      "10/10 [==============================] - 0s 6ms/step - loss: 0.2157 - accuracy: 0.9156 - val_loss: 0.2508 - val_accuracy: 0.9125\n",
      "Epoch 82/100\n",
      "10/10 [==============================] - 0s 6ms/step - loss: 0.2149 - accuracy: 0.9187 - val_loss: 0.2419 - val_accuracy: 0.9125\n",
      "Epoch 83/100\n",
      "10/10 [==============================] - 0s 7ms/step - loss: 0.2148 - accuracy: 0.9156 - val_loss: 0.2437 - val_accuracy: 0.9250\n",
      "Epoch 84/100\n",
      "10/10 [==============================] - 0s 7ms/step - loss: 0.2151 - accuracy: 0.9156 - val_loss: 0.2441 - val_accuracy: 0.9250\n",
      "Epoch 85/100\n",
      "10/10 [==============================] - 0s 7ms/step - loss: 0.2139 - accuracy: 0.9125 - val_loss: 0.2481 - val_accuracy: 0.9250\n",
      "Epoch 86/100\n",
      "10/10 [==============================] - 0s 6ms/step - loss: 0.2140 - accuracy: 0.9125 - val_loss: 0.2541 - val_accuracy: 0.9250\n",
      "Epoch 87/100\n",
      "10/10 [==============================] - 0s 6ms/step - loss: 0.2141 - accuracy: 0.9187 - val_loss: 0.2511 - val_accuracy: 0.9250\n",
      "Epoch 88/100\n",
      "10/10 [==============================] - 0s 8ms/step - loss: 0.2139 - accuracy: 0.9187 - val_loss: 0.2388 - val_accuracy: 0.9125\n",
      "Epoch 89/100\n",
      "10/10 [==============================] - 0s 9ms/step - loss: 0.2137 - accuracy: 0.9156 - val_loss: 0.2394 - val_accuracy: 0.9250\n",
      "Epoch 90/100\n",
      "10/10 [==============================] - 0s 7ms/step - loss: 0.2135 - accuracy: 0.9156 - val_loss: 0.2443 - val_accuracy: 0.9250\n",
      "Epoch 91/100\n",
      "10/10 [==============================] - 0s 6ms/step - loss: 0.2131 - accuracy: 0.9187 - val_loss: 0.2479 - val_accuracy: 0.9250\n",
      "Epoch 92/100\n",
      "10/10 [==============================] - 0s 6ms/step - loss: 0.2149 - accuracy: 0.9156 - val_loss: 0.2405 - val_accuracy: 0.9250\n",
      "Epoch 93/100\n",
      "10/10 [==============================] - 0s 8ms/step - loss: 0.2141 - accuracy: 0.9187 - val_loss: 0.2513 - val_accuracy: 0.9250\n",
      "Epoch 94/100\n",
      "10/10 [==============================] - 0s 8ms/step - loss: 0.2134 - accuracy: 0.9187 - val_loss: 0.2448 - val_accuracy: 0.9250\n",
      "Epoch 95/100\n",
      "10/10 [==============================] - 0s 7ms/step - loss: 0.2137 - accuracy: 0.9187 - val_loss: 0.2489 - val_accuracy: 0.9125\n",
      "Epoch 96/100\n",
      "10/10 [==============================] - 0s 9ms/step - loss: 0.2163 - accuracy: 0.9187 - val_loss: 0.2408 - val_accuracy: 0.9125\n",
      "Epoch 97/100\n",
      "10/10 [==============================] - 0s 8ms/step - loss: 0.2119 - accuracy: 0.9219 - val_loss: 0.2449 - val_accuracy: 0.9250\n",
      "Epoch 98/100\n",
      "10/10 [==============================] - 0s 9ms/step - loss: 0.2128 - accuracy: 0.9156 - val_loss: 0.2488 - val_accuracy: 0.9250\n",
      "Epoch 99/100\n",
      "10/10 [==============================] - 0s 7ms/step - loss: 0.2125 - accuracy: 0.9187 - val_loss: 0.2467 - val_accuracy: 0.9125\n",
      "Epoch 100/100\n",
      "10/10 [==============================] - 0s 7ms/step - loss: 0.2143 - accuracy: 0.9125 - val_loss: 0.2460 - val_accuracy: 0.9125\n"
     ]
    }
   ],
   "source": [
    "## Now making the neural network \n",
    "model = Sequential()\n",
    "model.add(Dense(64,activation='relu',input_dim = 2))\n",
    "model.add(Dense(64,activation='relu'))\n",
    "model.add(Dense(1,activation='sigmoid'))\n",
    "\n",
    "model.compile(optimizer = 'adam', loss = 'binary_crossentropy', metrics = ['accuracy'])\n",
    "history = model.fit(X_train_scaled, y_train, validation_data=(X_test_scaled,y_test),epochs=100)"
   ]
  },
  {
   "cell_type": "code",
   "execution_count": 15,
   "metadata": {},
   "outputs": [
    {
     "name": "stdout",
     "output_type": "stream",
     "text": [
      "3/3 [==============================] - 0s 4ms/step - loss: 0.2460 - accuracy: 0.9125\n"
     ]
    },
    {
     "data": {
      "text/plain": [
       "[0.2460019290447235, 0.9125000238418579]"
      ]
     },
     "execution_count": 15,
     "metadata": {},
     "output_type": "execute_result"
    }
   ],
   "source": [
    "model.evaluate(X_test_scaled,y_test)"
   ]
  },
  {
   "cell_type": "code",
   "execution_count": 12,
   "metadata": {},
   "outputs": [
    {
     "data": {
      "text/plain": [
       "[<matplotlib.lines.Line2D at 0x19f0a8fa250>]"
      ]
     },
     "execution_count": 12,
     "metadata": {},
     "output_type": "execute_result"
    },
    {
     "data": {
      "image/png": "[encoded data removed]",
      "text/plain": [
       "<Figure size 640x480 with 1 Axes>"
      ]
     },
     "metadata": {},
     "output_type": "display_data"
    }
   ],
   "source": [
    "import matplotlib.pyplot as plt\n",
    "plt.plot(history.history['val_accuracy'])"
   ]
  },
  {
   "cell_type": "code",
   "execution_count": null,
   "metadata": {},
   "outputs": [],
   "source": []
  }
 ],
 "metadata": {
  "kernelspec": {
   "display_name": "Python 3",
   "language": "python",
   "name": "python3"
  },
  "language_info": {
   "codemirror_mode": {
    "name": "ipython",
    "version": 3
   },
   "file_extension": ".py",
   "mimetype": "text/x-python",
   "name": "python",
   "nbconvert_exporter": "python",
   "pygments_lexer": "ipython3",
   "version": "3.9.2rc1"
  }
 },
 "nbformat": 4,
 "nbformat_minor": 2
}
